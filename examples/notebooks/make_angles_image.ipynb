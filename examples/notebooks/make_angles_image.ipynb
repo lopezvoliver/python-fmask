{
 "metadata": {
  "language_info": {
   "codemirror_mode": {
    "name": "ipython",
    "version": 3
   },
   "file_extension": ".py",
   "mimetype": "text/x-python",
   "name": "python",
   "nbconvert_exporter": "python",
   "pygments_lexer": "ipython3",
   "version": "3.9.2-final"
  },
  "orig_nbformat": 2,
  "kernelspec": {
   "name": "python3",
   "display_name": "Python 3",
   "language": "python"
  }
 },
 "nbformat": 4,
 "nbformat_minor": 2,
 "cells": [
  {
   "source": [
    "## Demonstrate the use of the make_angles_image\n",
    "\n",
    "You will need to install [geemap](https://github.com/giswqs/geemap) to visualize the results of this example. "
   ],
   "cell_type": "markdown",
   "metadata": {}
  },
  {
   "cell_type": "code",
   "execution_count": 1,
   "metadata": {},
   "outputs": [],
   "source": [
    "import ee \n",
    "ee.Initialize()"
   ]
  },
  {
   "cell_type": "code",
   "execution_count": 2,
   "metadata": {},
   "outputs": [],
   "source": [
    "# Select a cloudy Sentinel2 image\n",
    "date_str='2017-04-15' \n",
    "lonlat=[38.530867, 30.236383] \n",
    "date = ee.Date(date_str)\n",
    "geom = ee.Geometry.Point(lonlat[0], lonlat[1]) # lon/lat\n",
    "\n",
    "S2_img = ee.Image(\n",
    "  ee.ImageCollection('COPERNICUS/S2')\n",
    "    .filterBounds(geom)\n",
    "    .filterDate(date,date.advance(3,'month'))\n",
    "    .sort('system:time_start')\n",
    "    .first()\n",
    "  )"
   ]
  },
  {
   "cell_type": "code",
   "execution_count": 3,
   "metadata": {},
   "outputs": [
    {
     "output_type": "stream",
     "name": "stdout",
     "text": [
      "https://storage.googleapis.com/gcp-public-data-sentinel-2/tiles/37/R/DP/S2A_MSIL1C_20170415T080001_N0204_R035_T37RDP_20170415T080445.SAFE/GRANULE/L1C_T37RDP_A009470_20170415T080445/MTD_TL.xml\n"
     ]
    }
   ],
   "source": [
    "# The metadata file's url of the image hosted on google cloud storage can be obtained as follows:\n",
    "meta_info = S2_img.getInfo()\n",
    "meta_bands = meta_info['bands']\n",
    "meta_prop = meta_info['properties']\n",
    "info_procLevel, info_tileId = tuple(meta_prop['GRANULE_ID'].split('_')[0:2])\n",
    "\n",
    "gs_prefix = 'gs://gcp-public-data-sentinel-2/tiles'\n",
    "gs_prefix= 'https://storage.googleapis.com/gcp-public-data-sentinel-2/tiles'\n",
    "BASE_URL = '{}/{}/{}/{}/{}'.format(gs_prefix, info_tileId[1:3], info_tileId[3:4], info_tileId[4:6], meta_prop['PRODUCT_URI'])\n",
    "PATH_XML = '{}/GRANULE/{}/MTD_TL.xml'.format(BASE_URL, meta_prop['GRANULE_ID'])\n",
    "PATH_XML2 ='{}/MTD_MSIL1C.xml'.format(BASE_URL)\n",
    "print(PATH_XML)"
   ]
  },
  {
   "cell_type": "code",
   "execution_count": 4,
   "metadata": {},
   "outputs": [
    {
     "output_type": "display_data",
     "data": {
      "text/plain": "Map(center=[30.236383, 38.530867], controls=(WidgetControl(options=['position', 'transparent_bg'], widget=HBox…",
      "application/vnd.jupyter.widget-view+json": {
       "version_major": 2,
       "version_minor": 0,
       "model_id": "ec9fc6f2739c4014b83aa61e8da06aa8"
      }
     },
     "metadata": {}
    }
   ],
   "source": [
    "# Call sentinel2makeAnglesImage to get the angles image\n",
    "from fmask.cmdline import sentinel2makeAnglesImage\n",
    "angles_img = sentinel2makeAnglesImage.makeAngles_ee(PATH_XML)\n",
    "\n",
    "# Visualization of a band in the angles image in geemap:\n",
    "# available bands are: SatelliteAzimuth, SatelliteZenith, SunAzimuth, SunZenith\n",
    "import geemap\n",
    "Map = geemap.Map(center=[lonlat[1], lonlat[0]], zoom=10)\n",
    "Map.addLayer(angles_img, {'bands':'SatelliteAzimuth','min':150, 'max':223, 'palette':[\"#440154\",\"#3a528b\",\"#20908d\",\"#5dc962\",\"#fde725\"], 'opacity': 0.8})\n",
    "Map"
   ]
  }
 ]
}