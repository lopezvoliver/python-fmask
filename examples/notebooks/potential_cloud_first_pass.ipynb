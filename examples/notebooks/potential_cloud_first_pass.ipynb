{
 "metadata": {
  "language_info": {
   "codemirror_mode": {
    "name": "ipython",
    "version": 3
   },
   "file_extension": ".py",
   "mimetype": "text/x-python",
   "name": "python",
   "nbconvert_exporter": "python",
   "pygments_lexer": "ipython3",
   "version": "3.9.2-final"
  },
  "orig_nbformat": 2,
  "kernelspec": {
   "name": "python3",
   "display_name": "Python 3",
   "language": "python"
  }
 },
 "nbformat": 4,
 "nbformat_minor": 2,
 "cells": [
  {
   "source": [
    "## Demonstrate the use of potential_cloud_first_pass_ee for Sentinel 2 data\n",
    "\n",
    "You need to install [geemap](https://github.com/giswqs/geemap) to visualize the outputs."
   ],
   "cell_type": "markdown",
   "metadata": {}
  },
  {
   "cell_type": "code",
   "execution_count": 1,
   "metadata": {},
   "outputs": [],
   "source": [
    "import ee\n",
    "ee.Initialize()"
   ]
  },
  {
   "cell_type": "code",
   "execution_count": 2,
   "metadata": {},
   "outputs": [],
   "source": [
    "# Select a cloudy Sentinel2 image\n",
    "date_str='2017-04-15' \n",
    "lonlat=[38.530867, 30.236383] \n",
    "date = ee.Date(date_str)\n",
    "geom = ee.Geometry.Point(lonlat[0], lonlat[1]) # lon/lat\n",
    "\n",
    "S2_img = ee.Image(\n",
    "  ee.ImageCollection('COPERNICUS/S2')\n",
    "    .filterBounds(geom)\n",
    "    .filterDate(date,date.advance(3,'month'))\n",
    "    .sort('system:time_start')\n",
    "    .first()\n",
    "  )"
   ]
  },
  {
   "cell_type": "code",
   "execution_count": 3,
   "metadata": {},
   "outputs": [],
   "source": [
    "# Instantiate the fmaskconfig object\n",
    "cmdargs = type('',(),{})()\n",
    "cmdargs.mincloudsize=300\n",
    "cmdargs.cloudprobthreshold = 35\n",
    "cmdargs.nirsnowthreshold=0.4\n",
    "cmdargs.greensnowthreshold=0.35\n",
    "cmdargs.parallaxtest=True \n",
    "cmdargs.cloudbufferdistance = 150 # Default (see sentinel2Stacked.py)\n",
    "cmdargs.shadowbufferdistance = 300 # Default\n",
    "toaImgInfo = type('',(),{})()\n",
    "toaImgInfo.xRes = 10\n",
    "from fmask import config\n",
    "fmaskConfig = config.FmaskConfig(config.FMASK_SENTINEL2) # default Sentinel2 configuration options\n",
    "fmaskConfig.setTOARefScaling(10000.0) \n",
    "fmaskConfig.setMinCloudSize(cmdargs.mincloudsize)\n",
    "fmaskConfig.setEqn17CloudProbThresh(cmdargs.cloudprobthreshold / 100)    \n",
    "fmaskConfig.setEqn20NirSnowThresh(cmdargs.nirsnowthreshold)\n",
    "fmaskConfig.setEqn20GreenSnowThresh(cmdargs.greensnowthreshold)\n",
    "fmaskConfig.setCloudBufferSize(int(cmdargs.cloudbufferdistance / toaImgInfo.xRes))  \n",
    "fmaskConfig.setShadowBufferSize(int(cmdargs.shadowbufferdistance / toaImgInfo.xRes))\n",
    "fmaskConfig.sen2displacementTest = True \n",
    "\n",
    "# added by this module:\n",
    "other_args = type('', (), {})()\n",
    "other_args.N_focal_max = 5\n",
    "other_args.res = 10\n",
    "other_args.replace_and = False"
   ]
  },
  {
   "cell_type": "code",
   "execution_count": 4,
   "metadata": {},
   "outputs": [],
   "source": [
    "#ref = S2_img.divide(fmaskConfig.TOARefScaling)\n",
    "# Call potentialCloudFirstPass_ee to get the pcp first pass output:\n",
    "from fmask.sen2FmaskEE import potentialCloudFirstPass_ee \n",
    "pcp, waterTest, clearLand, variabilityProb, snowmask = potentialCloudFirstPass_ee(fmaskConfig, S2_img, other_args)"
   ]
  },
  {
   "cell_type": "code",
   "execution_count": 6,
   "metadata": {},
   "outputs": [
    {
     "output_type": "display_data",
     "data": {
      "text/plain": "Map(center=[30.236383, 38.530867], controls=(WidgetControl(options=['position', 'transparent_bg'], widget=HBox…",
      "application/vnd.jupyter.widget-view+json": {
       "version_major": 2,
       "version_minor": 0,
       "model_id": "c0b15dcf4bc247ac9f9bcb7c94cab5d1"
      }
     },
     "metadata": {}
    }
   ],
   "source": [
    "# Visualize the returned layers:\n",
    "index_viz = {'min':0, 'max':1}\n",
    "mask_viz = {'palette':[\"#ffffff\",\"#d7191c\"]}\n",
    "cdi_viz = {'min': -1, 'max': 1}\n",
    "import geemap\n",
    "Map = geemap.Map(center=[lonlat[1], lonlat[0]], zoom=10)\n",
    "Map.addLayer(S2_img.divide(fmaskConfig.TOARefScaling), {'bands':['B4','B3','B2'],'min':0, 'max':0.25}, 'Sentinel 2 image')\n",
    "Map.addLayer(waterTest.selfMask(), mask_viz, 'Water test')\n",
    "Map.addLayer(clearLand.selfMask(), mask_viz, 'Clear-sky land')\n",
    "Map.addLayer(variabilityProb, index_viz, 'Variability prob')\n",
    "Map.addLayer(snowmask.selfMask(), mask_viz, 'Snow mask')\n",
    "Map.addLayer(pcp.selfMask(), mask_viz, 'PCP')\n",
    "Map"
   ]
  }
 ]
}